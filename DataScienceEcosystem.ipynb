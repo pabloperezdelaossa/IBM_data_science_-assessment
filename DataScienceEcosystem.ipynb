{
 "cells": [
  {
   "cell_type": "markdown",
   "metadata": {},
   "source": [
    "<center>\n",
    "    <img src=\"https://cf-courses-data.s3.us.cloud-object-storage.appdomain.cloud/IBMDeveloperSkillsNetwork-DS0105EN-SkillsNetwork/labs/Module2/images/SN_web_lightmode.png\" width=\"300\" alt=\"cognitiveclass.ai logo\">\n",
    "</center>\n"
   ]
  },
  {
   "cell_type": "markdown",
   "metadata": {},
   "source": [
    "#### Add your code below following the instructions given in the course\n"
   ]
  },
  {
   "cell_type": "markdown",
   "metadata": {},
   "source": [
    "Markdown\n",
    "# Exercice 2 - TITLE: Data Science Tools and Ecosystem"
   ]
  },
  {
   "cell_type": "markdown",
   "metadata": {},
   "source": [
    "Exercice 3:  \n",
    "\n",
    "## Introduction:  \n",
    "\n",
    "In this notebook, Data Science Tools and Ecosystem are summarized.  \n",
    "\n",
    "This Notebook is an exercice in Data Science tools and Ecosystem. it will follow the guidelines of the assessment to cover all aspected dealt with so far in the course. There will propoer listing of langaguges, libraries and tools useful in Data Science.\n"
   ]
  },
  {
   "cell_type": "markdown",
   "metadata": {},
   "source": [
    "Exercice 4:\n",
    "## Data Science Languages  \n",
    "Some of the popular languages that Data Scientists use are:  \n",
    "\n",
    "        Python  \n",
    "        R  \n",
    "        SQL  \n",
    "        Java  \n",
    "        Julia  \n",
    "        Scala  \n",
    "        C/C++  \n",
    "        JavaScript  \n",
    "        Swift  \n",
    "        Go  \n",
    "        MATLAB  \n",
    "        SAS "
   ]
  },
  {
   "cell_type": "markdown",
   "metadata": {},
   "source": [
    "Exercice 5:\n",
    "\n",
    "## Data Science Libraries\n",
    "\n",
    "Some of the commonly used libraries used by Data Scientists include:  \n",
    "\n",
    "1. NumPy\n",
    "2. Pandas\n",
    "3. Matplotlib\n",
    "4. Seaborn\n",
    "5. Plotly\n",
    "6. Scikit-Learn\n",
    "7. LightGBM\n",
    "8. XGBoost\n",
    "9. CatBoost\n",
    "10. Statsmodels\n",
    "11. RAPIDS.AI cuDF and cuML\n",
    "12. Optuna\n",
    "13. PyCaret\n",
    "14. H2O\n",
    "15. TPOT\n",
    "16. Auto-sklearn\n",
    "17. FLAML\n",
    "18. TensorFlow\n",
    "19. PyTorch\n",
    "20. FastAI\n",
    "21. Keras\n",
    "22. PyTorch Lightning\n",
    "23. NLTK\n",
    "24. spaCy\n",
    "25. Gensim\n",
    "26. Hugging Face Transformers  \n",
    "\n",
    "The lis was taken form this link:  \n",
    "Staple Python Libraries for Data Science (https://www.datacamp.com/blog/top-python-libraries-for-data-science)\n"
   ]
  },
  {
   "cell_type": "markdown",
   "metadata": {},
   "source": [
    "Exercice 6: \n",
    "\n",
    "## Data science tools\n",
    "\n",
    "| --- |\n",
    "| Data Science Tools |  \n",
    "| Apache Spark |  \n",
    "| D3.js |  \n",
    "| IBM SPSS |  \n",
    "| Julia |  \n",
    "| Jupyter Notebook |  \n",
    "| Keras |  \n",
    "| Matlab |  \n",
    "| Matplotlib |  \n",
    "| NumPy |  \n",
    "| Pandas |  \n",
    "| Python |  \n",
    "| PyTorch |  \n",
    "| R |  \n",
    "| SAS |  \n",
    "| Scikit-learn |  \n",
    "| SciPy |  \n",
    "| TensorFlow |  \n",
    "| Weka |  \n",
    "\n",
    "Taken from 8 data science tools to consider using in 2024 (https://www.techtarget.com/searchbusinessanalytics/feature/15-data-science-tools-to-consider-using)"
   ]
  },
  {
   "cell_type": "markdown",
   "metadata": {},
   "source": [
    "Exercise 7 - \n",
    "\n",
    "## Introduction to aritmethics  \n",
    "\n",
    "Create a markdown cell introducing arithmetic expression examples.\n",
    "\n",
    "a=34\n",
    "b=42\n",
    "\n",
    "Sum\n",
    "print(a+b)\n",
    "\n",
    "Rest\n",
    "print(a-b)\n",
    "\n",
    "Multiplication\n",
    "print(a*b)\n",
    "\n",
    "Division\n",
    "print(a/b)\n"
   ]
  },
  {
   "cell_type": "code",
   "execution_count": 16,
   "metadata": {},
   "outputs": [
    {
     "name": "stdout",
     "output_type": "stream",
     "text": [
      "1938\n",
      "91\n"
     ]
    }
   ],
   "source": [
    "# Exercice 8: multiplication and additions\n",
    "\n",
    "a = 34\n",
    "b= 57\n",
    "\n",
    "# Multipplication\n",
    "c = a* b\n",
    "print(c)\n",
    "\n",
    "# addition\n",
    "d = a+b\n",
    "print(d)"
   ]
  },
  {
   "cell_type": "code",
   "execution_count": 10,
   "metadata": {},
   "outputs": [
    {
     "name": "stdout",
     "output_type": "stream",
     "text": [
      "The original minutes was: 657\n",
      "The time in hours is  10 : 57\n"
     ]
    }
   ],
   "source": [
    "# Exercise 9 - Create a code cell to convert minutes to hours\n",
    "\n",
    "minutes = 657\n",
    "hours = (minutes//60)\n",
    "minutes_left = minutes%60\n",
    "print(\"The original minutes was:\", minutes)\n",
    "print(\"The time in hours is \", hours, \":\", minutes_left)\n"
   ]
  },
  {
   "cell_type": "markdown",
   "metadata": {},
   "source": [
    "Exercise 10 -\n",
    "\n",
    "**Objective**\n",
    "\n",
    "List Objectives\n",
    "\n",
    "    Create a Jupyter notebook  \n",
    "    Add comments to code  \n",
    "    Create markdown cells  \n",
    "    Add lists and tables   \n",
    "    Select headings  \n",
    "    Mark comments in bold type  \n",
    "    Insert code  \n",
    "    Share your notebook through GitHub  \n"
   ]
  },
  {
   "cell_type": "markdown",
   "metadata": {},
   "source": [
    "Exercice 10: \n",
    "\n",
    "## Author's name\n",
    "\n",
    "This Notebook was created by Pablo Perez de la Ossa"
   ]
  },
  {
   "cell_type": "code",
   "execution_count": null,
   "metadata": {},
   "outputs": [],
   "source": []
  }
 ],
 "metadata": {
  "kernelspec": {
   "display_name": "Python [conda env:base] *",
   "language": "python",
   "name": "conda-base-py"
  },
  "language_info": {
   "codemirror_mode": {
    "name": "ipython",
    "version": 3
   },
   "file_extension": ".py",
   "mimetype": "text/x-python",
   "name": "python",
   "nbconvert_exporter": "python",
   "pygments_lexer": "ipython3",
   "version": "3.12.7"
  }
 },
 "nbformat": 4,
 "nbformat_minor": 4
}
