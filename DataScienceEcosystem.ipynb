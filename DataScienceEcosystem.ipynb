{
 "cells": [
  {
   "cell_type": "markdown",
   "metadata": {},
   "source": [
    "<center>\n",
    "    <img src=\"https://cf-courses-data.s3.us.cloud-object-storage.appdomain.cloud/IBMDeveloperSkillsNetwork-DS0105EN-SkillsNetwork/labs/Module2/images/SN_web_lightmode.png\" width=\"300\" alt=\"cognitiveclass.ai logo\">\n",
    "</center>\n"
   ]
  },
  {
   "cell_type": "markdown",
   "metadata": {},
   "source": [
    "#### Add your code below following the instructions given in the course\n"
   ]
  },
  {
   "cell_type": "markdown",
   "metadata": {},
   "source": [
    "Markdown\n",
    "# Exercice 2 - TITLE: Peer Graded assessment"
   ]
  },
  {
   "cell_type": "markdown",
   "metadata": {},
   "source": [
    "Exercice 3: This is a markdow used as an introduction of the peer graded assessment"
   ]
  },
  {
   "cell_type": "markdown",
   "metadata": {},
   "source": [
    "Exercice 4: this again is markdown to list data science languages\n",
    "    Python\n",
    "    R\n",
    "    SQL\n",
    "    Java\n",
    "    Julia\n",
    "    Scala\n",
    "    C/C++\n",
    "    JavaScript\n",
    "    Swift\n",
    "    Go\n",
    "    MATLAB\n",
    "    SAS"
   ]
  },
  {
   "cell_type": "markdown",
   "metadata": {},
   "source": [
    "Exercice 5: this is a list of data science libraries\n",
    "Staple Python Libraries for Data Science (https://www.datacamp.com/blog/top-python-libraries-for-data-science)\n",
    "1. NumPy\n",
    "2. Pandas\n",
    "3. Matplotlib\n",
    "4. Seaborn\n",
    "5. Plotly\n",
    "6. Scikit-Learn\n",
    "7. LightGBM\n",
    "8. XGBoost\n",
    "9. CatBoost\n",
    "10. Statsmodels\n",
    "11. RAPIDS.AI cuDF and cuML\n",
    "12. Optuna\n",
    "13. PyCaret\n",
    "14. H2O\n",
    "15. TPOT\n",
    "16. Auto-sklearn\n",
    "17. FLAML\n",
    "18. TensorFlow\n",
    "19. PyTorch\n",
    "20. FastAI\n",
    "21. Keras\n",
    "22. PyTorch Lightning\n",
    "23. NLTK\n",
    "24. spaCy\n",
    "25. Gensim\n",
    "26. Hugging Face Transformers\n"
   ]
  },
  {
   "cell_type": "markdown",
   "metadata": {},
   "source": [
    "Exercice 6: data science tools\n",
    "8 data science tools to consider using in 2024 (https://www.techtarget.com/searchbusinessanalytics/feature/15-data-science-tools-to-consider-using)\n",
    "1. Apache Spark\n",
    "2. D3.js\n",
    "3. IBM SPSS\n",
    "4. Julia\n",
    "5. Jupyter Notebook\n",
    "6. Keras\n",
    "7. Matlab\n",
    "8. Matplotlib\n",
    "9. NumPy\n",
    "10. Pandas\n",
    "11. Python\n",
    "12. PyTorch\n",
    "13. R\n",
    "14. SAS\n",
    "15. Scikit-learn\n",
    "16. SciPy\n",
    "17. TensorFlow\n",
    "18. Weka\n"
   ]
  },
  {
   "cell_type": "markdown",
   "metadata": {},
   "source": [
    "Exercise 7 - Create a markdown cell introducing arithmetic expression examples.\n",
    "\n",
    "a=34\n",
    "b=42\n",
    "\n",
    "Sum\n",
    "print(a+b)\n",
    "\n",
    "Rest\n",
    "print(a-b)\n",
    "\n",
    "Multiplication\n",
    "print(a*b)\n",
    "\n",
    "Division\n",
    "print(a/b)\n"
   ]
  },
  {
   "cell_type": "code",
   "execution_count": null,
   "metadata": {},
   "outputs": [],
   "source": [
    "# Exercice 8: multiplication and additions\n",
    "\n",
    "a = 34\n",
    "b= 57\n",
    "\n",
    "# Multipplication\n",
    "c = a* b\n",
    "print(c)\n",
    "\n",
    "# Division\n",
    "d = a/b\n",
    "print(d)"
   ]
  },
  {
   "cell_type": "code",
   "execution_count": 6,
   "metadata": {},
   "outputs": [
    {
     "name": "stdout",
     "output_type": "stream",
     "text": [
      "The original minutes was: 657\n",
      "The time in hours is  10 : 57\n"
     ]
    }
   ],
   "source": [
    "# Exercise 9 - Create a code cell to convert minutes to hours\n",
    "\n",
    "minutes = 657\n",
    "hours = (minutes//60)\n",
    "minutes_left = minutes%60\n",
    "print(\"The original minutes was:\", minutes)\n",
    "print(\"The time in hours is \", hours, \":\", minutes_left)\n"
   ]
  },
  {
   "cell_type": "markdown",
   "metadata": {},
   "source": [
    "Exercise 10 -Insert a markdown cell to list Objectives\n",
    "Objective\n",
    "\n",
    "In this final assignment, you will:\n",
    "\n",
    "    Create a Jupyter Notebook\n",
    "\n",
    "    Insert code and markdown cells\n",
    "\n",
    "    Share your notebook through GitHub\n"
   ]
  },
  {
   "cell_type": "markdown",
   "metadata": {},
   "source": [
    "Exercice 10: Author's name\n",
    "\n",
    "This Notebook was created by Pablo Perez de la Ossa"
   ]
  },
  {
   "cell_type": "code",
   "execution_count": null,
   "metadata": {},
   "outputs": [],
   "source": []
  }
 ],
 "metadata": {
  "kernelspec": {
   "display_name": "Python 3 (ipykernel)",
   "language": "python",
   "name": "python3"
  },
  "language_info": {
   "codemirror_mode": {
    "name": "ipython",
    "version": 3
   },
   "file_extension": ".py",
   "mimetype": "text/x-python",
   "name": "python",
   "nbconvert_exporter": "python",
   "pygments_lexer": "ipython3",
   "version": "3.11.9"
  }
 },
 "nbformat": 4,
 "nbformat_minor": 4
}
